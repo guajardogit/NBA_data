{
 "cells": [
  {
   "cell_type": "markdown",
   "metadata": {},
   "source": [
    "# Datos de partido equipos"
   ]
  },
  {
   "cell_type": "code",
   "execution_count": 1,
   "metadata": {},
   "outputs": [
    {
     "name": "stdout",
     "output_type": "stream",
     "text": [
      "Requirement already satisfied: nba_api in /opt/anaconda3/envs/tecmx/lib/python3.12/site-packages (1.4.1)\n",
      "Requirement already satisfied: certifi<2024.0.0,>=2023.7.22 in /opt/anaconda3/envs/tecmx/lib/python3.12/site-packages (from nba_api) (2023.11.17)\n",
      "Requirement already satisfied: numpy<2.0.0,>=1.22.2 in /opt/anaconda3/envs/tecmx/lib/python3.12/site-packages (from nba_api) (1.26.4)\n",
      "Requirement already satisfied: requests<3.0,>=2.31 in /opt/anaconda3/envs/tecmx/lib/python3.12/site-packages (from nba_api) (2.31.0)\n",
      "Requirement already satisfied: charset-normalizer<4,>=2 in /opt/anaconda3/envs/tecmx/lib/python3.12/site-packages (from requests<3.0,>=2.31->nba_api) (2.0.4)\n",
      "Requirement already satisfied: idna<4,>=2.5 in /opt/anaconda3/envs/tecmx/lib/python3.12/site-packages (from requests<3.0,>=2.31->nba_api) (3.4)\n",
      "Requirement already satisfied: urllib3<3,>=1.21.1 in /opt/anaconda3/envs/tecmx/lib/python3.12/site-packages (from requests<3.0,>=2.31->nba_api) (2.1.0)\n",
      "Note: you may need to restart the kernel to use updated packages.\n"
     ]
    }
   ],
   "source": [
    "pip install nba_api"
   ]
  },
  {
   "cell_type": "code",
   "execution_count": 2,
   "metadata": {},
   "outputs": [],
   "source": [
    "import pandas as pd\n",
    "from nba_api.stats.endpoints import teamgamelog\n",
    "from nba_api.stats.static import teams\n",
    "import warnings\n"
   ]
  },
  {
   "cell_type": "code",
   "execution_count": 13,
   "metadata": {},
   "outputs": [],
   "source": [
    "def get_logs(teamid, season):\n",
    "    gamelog_home = teamgamelog.TeamGameLog(team_id=teamid, season=season)\n",
    "    log_home = gamelog_home.get_data_frames()[0]\n",
    "    warnings.filterwarnings(\"ignore\", message=\"Could not infer format, so each element will be parsed individually\")\n",
    "    log_home['GAME_DATE'] = pd.to_datetime(log_home['GAME_DATE'])\n",
    "    return log_home\n",
    "\n",
    "def get_averages(df, teamid, end_date):\n",
    "    \n",
    "    filtered_games = df[df[\"Team_ID_1\"] == teamid]\n",
    "    gameday = filtered_games[filtered_games[\"GAME_DATE_1\"] == end_date]\n",
    "\n",
    "    filtered_games = filtered_games[filtered_games['GAME_DATE_1'] < end_date]\n",
    "    \n",
    "    if filtered_games.shape[0] > 10:\n",
    "        filtered_games = filtered_games.tail(10)\n",
    "        \n",
    "    # If no games are found, return None\n",
    "    if filtered_games.empty:\n",
    "        print(\"empty\")\n",
    "        return None\n",
    "    \n",
    "    \n",
    "    columns = [\"GAME_ID\", \"Team_ID_1\", \"Team_ID_2\", \"GAME_DATE_1\", \"MATCHUP_1\", \"PTS_1\", \"PTS_2\", \"win%_1\",\"efg%_1\", \"fta_rate_1\",\"tov%_1\",\"oreb%_1\", \"offrtg_1\", \"defrtg_1\", \"pace_1\", \"ppg_1\", \"opp_ppg_1\", \"dreb%_1\", \"win%_2\",\"efg%_2\", \"fta_rate_2\",\"tov%_2\",\"oreb%_2\", \"offrtg_2\", \"defrtg_2\", \"pace_2\", \"ppg_2\", \"opp_ppg_2\", \"dreb%_2\"]\n",
    "    stats = pd.DataFrame(columns=columns)\n",
    "\n",
    "    stats[\"GAME_ID\"] = gameday[\"Game_ID\"]\n",
    "    stats[\"Team_ID_1\"] = gameday[\"Team_ID_1\"]\n",
    "    stats[\"Team_ID_2\"] = gameday[\"Team_ID_2\"]\n",
    "    stats[\"GAME_DATE_1\"]= gameday[\"GAME_DATE_1\"]\n",
    "    stats[\"MATCHUP_1\"]= gameday[\"MATCHUP_1\"]\n",
    "    stats[\"PTS_1\"] = gameday[\"PTS_1\"]\n",
    "    stats[\"PTS_2\"] = gameday[\"PTS_2\"]\n",
    "    \n",
    "    stats['win%_1'] = filtered_games['WL_1'].value_counts(normalize=True).get('W', 0)\n",
    "    stats['efg%_1'] = (filtered_games['FGM_1'].sum() + 0.5 * filtered_games['FG3M_1'].sum()) / filtered_games['FGA_1'].sum()\n",
    "    stats['fta_rate_1'] = filtered_games['FTA_1'].sum() / filtered_games['FGA_1'].sum()\n",
    "    stats['tov%_1'] = filtered_games['TOV_1'].sum() / (filtered_games['FGA_1'].sum() + 0.44 * filtered_games['FTA_1'].sum() + filtered_games['TOV_1'].sum())\n",
    "    stats['oreb%_1'] = filtered_games['OREB_1'].sum() / (filtered_games['OREB_1'].sum() + filtered_games['DREB_2'].sum())\n",
    "    stats['offrtg_1'] = filtered_games['PTS_1'].sum()  / 0.96*((filtered_games['FGA_1'].sum() )+(filtered_games['TOV_1'].sum()  )+0.44*(filtered_games['FTA_1'].sum() )-(filtered_games['OREB_1'].sum() ))\n",
    "    stats[\"defrtg_1\"] = 100 * (filtered_games['PTS_2'].sum() / 0.96*((filtered_games['FGA_1'].sum() )+(filtered_games['TOV_1'].sum()  )+0.44*(filtered_games['FTA_1'].sum() )-(filtered_games['OREB_1'].sum() )))\n",
    "    stats['pace_1'] = 0.96*((filtered_games['FGA_1'].sum() )+(filtered_games['TOV_1'].sum()  )+0.44*(filtered_games['FTA_1'].sum() )-(filtered_games['OREB_1'].sum() )) / (48 * (filtered_games['MIN_1'].sum()  / 240))\n",
    "    stats[\"ppg_1\"] = filtered_games[\"PTS_1\"].mean()\n",
    "    stats['opp_ppg_1'] = filtered_games[\"PTS_2\"].mean()\n",
    "    stats[\"dreb%_1\"] = filtered_games[\"DREB_1\"].sum() / (filtered_games[\"DREB_1\"].sum() + filtered_games['OREB_2'].sum())\n",
    "    \n",
    "    stats['win%_2'] = filtered_games['WL_2'].value_counts(normalize=True).get('W', 0)\n",
    "    stats['efg%_2'] = (filtered_games['FGM_2'].sum() + 0.5 * filtered_games['FG3M_2'].sum()) / filtered_games['FGA_2'].sum()\n",
    "    stats['fta_rate_2'] = filtered_games['FTA_2'].sum() / filtered_games['FGA_2'].sum()\n",
    "    stats['tov%_2'] = filtered_games['TOV_2'].sum() / (filtered_games['FGA_2'].sum() + 0.44 * filtered_games['FTA_2'].sum() + filtered_games['TOV_2'].sum())\n",
    "    stats['oreb%_2'] = filtered_games['OREB_2'].sum() / (filtered_games['OREB_2'].sum() + filtered_games['DREB_1'].sum())\n",
    "    stats['offrtg_2'] = filtered_games['PTS_2'].sum()  / 0.96*((filtered_games['FGA_2'].sum() )+(filtered_games['TOV_2'].sum()  )+0.44*(filtered_games['FTA_2'].sum() )-(filtered_games['OREB_2'].sum() ))\n",
    "    stats[\"defrtg_2\"] = 100 * (filtered_games['PTS_1'].sum() / 0.96*((filtered_games['FGA_2'].sum() )+(filtered_games['TOV_2'].sum()  )+0.44*(filtered_games['FTA_2'].sum() )-(filtered_games['OREB_2'].sum() )))\n",
    "    stats['pace_2'] = 0.96*((filtered_games['FGA_2'].sum() )+(filtered_games['TOV_2'].sum()  )+0.44*(filtered_games['FTA_2'].sum() )-(filtered_games['OREB_2'].sum() )) / (48 * (filtered_games['MIN_2'].sum()  / 240))\n",
    "    stats[\"ppg_2\"] = filtered_games[\"PTS_2\"].mean()\n",
    "    stats['opp_ppg_2'] = filtered_games[\"PTS_1\"].mean()\n",
    "    stats[\"dreb%_2\"] = filtered_games[\"DREB_2\"].sum() / (filtered_games[\"DREB_2\"].sum() + filtered_games['OREB_1'].sum())\n",
    "    \n",
    "    return stats\n",
    "    "
   ]
  },
  {
   "cell_type": "code",
   "execution_count": 14,
   "metadata": {},
   "outputs": [],
   "source": [
    "teams_list = teams.get_teams()\n",
    "id_list = [team['id'] for team in teams_list]"
   ]
  },
  {
   "cell_type": "code",
   "execution_count": 15,
   "metadata": {},
   "outputs": [
    {
     "name": "stderr",
     "output_type": "stream",
     "text": [
      "/var/folders/1h/w3mjcszn60577hhjww35tglh0000gn/T/ipykernel_62268/2778142003.py:5: FutureWarning: The behavior of DataFrame concatenation with empty or all-NA entries is deprecated. In a future version, this will no longer exclude empty or all-NA columns when determining the result dtypes. To retain the old behavior, exclude the relevant entries before the concat operation.\n",
      "  LogsSeason = pd.concat([LogsSeason, df], ignore_index=True)\n"
     ]
    }
   ],
   "source": [
    "columns = ['Team_ID', 'Game_ID', 'GAME_DATE', 'MATCHUP', 'WL', 'W', 'L', 'W_PCT', 'MIN', 'FGM', 'FGA', 'FG_PCT', 'FG3M', 'FG3A', 'FG3_PCT', 'FTM', 'FTA', 'FT_PCT', 'OREB', 'DREB', 'REB', 'AST', 'STL', 'BLK', 'TOV', 'PF', 'PTS']\n",
    "LogsSeason = pd.DataFrame(columns=columns)\n",
    "for id in id_list:\n",
    "    df = get_logs(id, '2023-24')\n",
    "    LogsSeason = pd.concat([LogsSeason, df], ignore_index=True)"
   ]
  },
  {
   "cell_type": "code",
   "execution_count": 16,
   "metadata": {},
   "outputs": [],
   "source": [
    "# Split the dataframe based on Game_ID and Team_ID\n",
    "df_team1 = LogsSeason[LogsSeason['MATCHUP'].str.contains('@')].copy()\n",
    "df_team2 = LogsSeason[LogsSeason['MATCHUP'].str.contains('vs.')].copy()\n",
    "\n",
    "# Add suffixes to columns to distinguish between team1 and team2\n",
    "df_team1 = df_team1.add_suffix('_1')\n",
    "df_team2 = df_team2.add_suffix('_2')\n",
    "\n",
    "# Rename the Game_ID columns back to the original\n",
    "df_team1.rename(columns={'Game_ID_1': 'Game_ID'}, inplace=True)\n",
    "df_team2.rename(columns={'Game_ID_2': 'Game_ID'}, inplace=True)\n",
    "\n",
    "# Merge the two dataframes on Game_ID\n",
    "merged_df = pd.merge(df_team1, df_team2, on='Game_ID')\n",
    "\n",
    "merged_df = merged_df.sort_values(by=['Team_ID_1', 'GAME_DATE_1'])"
   ]
  },
  {
   "cell_type": "code",
   "execution_count": 17,
   "metadata": {},
   "outputs": [
    {
     "name": "stdout",
     "output_type": "stream",
     "text": [
      "empty\n",
      "empty\n"
     ]
    },
    {
     "name": "stderr",
     "output_type": "stream",
     "text": [
      "/var/folders/1h/w3mjcszn60577hhjww35tglh0000gn/T/ipykernel_62268/4011006956.py:8: FutureWarning: The behavior of DataFrame concatenation with empty or all-NA entries is deprecated. In a future version, this will no longer exclude empty or all-NA columns when determining the result dtypes. To retain the old behavior, exclude the relevant entries before the concat operation.\n",
      "  final = pd.concat([final, get_averages(merged_df, id, day)], ignore_index=True)\n"
     ]
    },
    {
     "name": "stdout",
     "output_type": "stream",
     "text": [
      "empty\n",
      "empty\n",
      "empty\n",
      "empty\n",
      "empty\n",
      "empty\n",
      "empty\n",
      "empty\n",
      "empty\n",
      "empty\n",
      "empty\n",
      "empty\n",
      "empty\n",
      "empty\n",
      "empty\n",
      "empty\n",
      "empty\n",
      "empty\n",
      "empty\n",
      "empty\n",
      "empty\n",
      "empty\n",
      "empty\n",
      "empty\n",
      "empty\n",
      "empty\n",
      "empty\n",
      "empty\n"
     ]
    }
   ],
   "source": [
    "columns = [\"GAME_ID\", \"Team_ID_1\", \"Team_ID_2\", \"GAME_DATE_1\", \"MATCHUP_1\", \"PTS_1\", \"PTS_2\", \"win%_1\",\"efg%_1\", \"fta_rate_1\",\"tov%_1\",\"oreb%_1\", \"offrtg_1\", \"defrtg_1\", \"pace_1\", \"ppg_1\", \"opp_ppg_1\", \"dreb%_1\", \"win%_2\",\"efg%_2\", \"fta_rate_2\",\"tov%_2\",\"oreb%_2\", \"offrtg_2\", \"defrtg_2\", \"pace_2\", \"ppg_2\", \"opp_ppg_2\", \"dreb%_2\"]\n",
    "final = pd.DataFrame(columns=columns)\n",
    "listgames = []\n",
    "\n",
    "for id in id_list:\n",
    "    listgames = merged_df[merged_df[\"Team_ID_1\"] == id][\"GAME_DATE_1\"].to_list()\n",
    "    for day in listgames:\n",
    "        final = pd.concat([final, get_averages(merged_df, id, day)], ignore_index=True)"
   ]
  },
  {
   "cell_type": "code",
   "execution_count": 19,
   "metadata": {},
   "outputs": [],
   "source": [
    "final.to_csv(\"GamesStatsTeams23-24.csv\", index = False)"
   ]
  }
 ],
 "metadata": {
  "kernelspec": {
   "display_name": "tecmx",
   "language": "python",
   "name": "python3"
  },
  "language_info": {
   "codemirror_mode": {
    "name": "ipython",
    "version": 3
   },
   "file_extension": ".py",
   "mimetype": "text/x-python",
   "name": "python",
   "nbconvert_exporter": "python",
   "pygments_lexer": "ipython3",
   "version": "3.12.2"
  }
 },
 "nbformat": 4,
 "nbformat_minor": 2
}
