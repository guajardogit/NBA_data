{
 "cells": [
  {
   "cell_type": "code",
   "execution_count": 6,
   "metadata": {},
   "outputs": [],
   "source": [
    "def sacar_df(player_id,season,dict_equipo_jugador):\n",
    "    player_per_stats = get_player_season(player_id, season)\n",
    "    player_per_stats['GAME_DATE'] = pd.to_datetime(player_per_stats['GAME_DATE'], format='%b %d, %Y')\n",
    "    player_per_stats = player_per_stats.sort_values(by='GAME_DATE')\n",
    "\n",
    "    # Restablecer los índices del DataFrame\n",
    "    player_per_stats.reset_index(drop=True, inplace=True)\n",
    "\n",
    "    # Imprimir las primeras 5 filas del DataFrame ordenado\n",
    "    # Suponiendo que ya tienes el DataFrame df_sorted ordenado por fecha\n",
    "    # Eliminar las primeras 10 filas\n",
    "    player_per_stats['WL'] = player_per_stats['WL'].replace({'W': 1, 'L': 0})\n",
    "    # Calcular el promedio del PER de los últimos 10 partidos para cada juego\n",
    "    col=['WL', 'MIN', 'FGM', 'FGA', 'FG3M', 'FG3A',  'FTM', 'FTA','OREB', 'DREB', 'AST', 'STL', 'BLK', 'TOV', 'PF','PTS', 'PLUS_MINUS']\n",
    "    promedio_ultimos_10 = player_per_stats[col].shift(1).rolling(window=10, min_periods=1).mean()\n",
    "    player_per_stats.update(promedio_ultimos_10)\n",
    "    player_per_stats['PLAYER_ID']=player_id\n",
    "    player_per_stats=player_per_stats[1:]\n",
    "    player_per_stats['TEAM_ID'] = player_per_stats['PLAYER_ID'].apply(lambda x: de_que_equipo_es(x, dict_equipo_jugador))\n",
    "    player_per_stats.drop(columns=['GAME_DATE'], inplace=True)\n",
    "    \n",
    "    return player_per_stats\n",
    "   \n"
   ]
  },
  {
   "cell_type": "code",
   "execution_count": 7,
   "metadata": {},
   "outputs": [],
   "source": [
    "\n",
    "dict_equipo_jugador = dfprueba.groupby('TEAM_ID')['PLAYER_ID'].apply(list).to_dict()\n",
    "season='2023-24'\n",
    "player_id=201935\n",
    "\n"
   ]
  },
  {
   "cell_type": "code",
   "execution_count": 2,
   "metadata": {},
   "outputs": [],
   "source": [
    "import pandas as pd\n",
    "import numpy as np\n",
    "import requests\n",
    "from nba_api.stats import endpoints\n",
    "from nba_api.stats.endpoints import playergamelog\n",
    "\n",
    "temporadas = ['2019-20','2020-21','2021-22','2022-23','2023-24']\n",
    "\n",
    "# Iterar sobre cada temporada y obtener las estadísticas de los líderes de la liga\n",
    "dfs=[]\n",
    "for temporada in temporadas:\n",
    "    data = endpoints.leagueleaders.LeagueLeaders(season=temporada)\n",
    "    df = data.league_leaders.get_data_frame()\n",
    "    # Agregar columna de temporada\n",
    "    df['Temporada'] = temporada\n",
    "    dfs.append(df)\n",
    "\n",
    "# Concatenar todos los DataFrames en uno solo\n",
    "\n",
    "# Guardar el DataFrame combinado en un archivo CSV\n",
    "\n",
    "\n",
    "# Inicializar un DataFrame vacío\n",
    "l=[]\n",
    "df_final=pd.DataFrame()\n",
    "# Iterar sobre cada player_id en l_player_id\n",
    "for index, temporada in enumerate(temporadas):\n",
    "    season=temporada\n",
    "    \n",
    "    dict_equipo_jugador = dfs[index].groupby('TEAM_ID')['PLAYER_ID'].apply(list).to_dict()\n",
    "    l.append(dict_equipo_jugador)\n",
    "    \n",
    "    "
   ]
  },
  {
   "cell_type": "code",
   "execution_count": 5,
   "metadata": {},
   "outputs": [],
   "source": [
    "# Iterar sobre cada diccionario en la lista l\n",
    "# Construir el diccionario inverso\n",
    "dict_jugador_equipo = {}\n",
    "\n",
    "# Iterar sobre cada diccionario en la lista l\n",
    "for dict_equipo_jugador in l:\n",
    "    for team_id, player_ids in dict_equipo_jugador.items():\n",
    "        for player_id in player_ids:\n",
    "            if player_id not in dict_jugador_equipo:\n",
    "                dict_jugador_equipo[player_id] = [team_id]\n",
    "            else:\n",
    "                dict_jugador_equipo[player_id].append(team_id)\n",
    "\n",
    "# Verificar si algún jugador está asociado a más de un equipo\n",
    "for player_id, team_ids in dict_jugador_equipo.items():\n",
    "    if len(team_ids) > 5:\n",
    "        print(f\"Error: El jugador {player_id} está asociado a más de un team_id: {team_ids}\")\n"
   ]
  },
  {
   "cell_type": "code",
   "execution_count": null,
   "metadata": {},
   "outputs": [],
   "source": []
  }
 ],
 "metadata": {
  "kernelspec": {
   "display_name": ".venv",
   "language": "python",
   "name": "python3"
  },
  "language_info": {
   "codemirror_mode": {
    "name": "ipython",
    "version": 3
   },
   "file_extension": ".py",
   "mimetype": "text/x-python",
   "name": "python",
   "nbconvert_exporter": "python",
   "pygments_lexer": "ipython3",
   "version": "3.12.1"
  }
 },
 "nbformat": 4,
 "nbformat_minor": 2
}
